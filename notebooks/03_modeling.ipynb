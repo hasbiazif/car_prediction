{
 "cells": [
  {
   "cell_type": "code",
   "execution_count": 3,
   "id": "e1996ab8",
   "metadata": {},
   "outputs": [],
   "source": [
    "## 1. Import library utama ===\n",
    "import pandas as pd\n",
    "import numpy as np\n",
    "import matplotlib.pyplot as plt\n",
    "import seaborn as sns\n",
    "\n",
    "from sklearn.linear_model import LinearRegression, Ridge, Lasso\n",
    "from sklearn.ensemble import RandomForestRegressor\n",
    "from catboost import CatBoostRegressor\n",
    "from sklearn.metrics import r2_score, mean_absolute_error, mean_squared_error"
   ]
  },
  {
   "cell_type": "code",
   "execution_count": 4,
   "id": "186a7267",
   "metadata": {},
   "outputs": [
    {
     "name": "stdout",
     "output_type": "stream",
     "text": [
      "✅ Data siap untuk training\n",
      "Fitur: (239, 7) | Target: (239,)\n"
     ]
    }
   ],
   "source": [
    "## 2. Load data hasil preprocessing ===\n",
    "train_path = \"../data/processed/train_data.csv\"\n",
    "test_path = \"../data/processed/test_data.csv\"\n",
    "\n",
    "train_df = pd.read_csv(train_path)\n",
    "test_df = pd.read_csv(test_path)\n",
    "\n",
    "# Pisahkan fitur dan target\n",
    "X_train = train_df.drop('Selling_Price', axis=1)\n",
    "y_train = train_df['Selling_Price']\n",
    "X_test = test_df.drop('Selling_Price', axis=1)\n",
    "y_test = test_df['Selling_Price']\n",
    "\n",
    "print(\"✅ Data siap untuk training\")\n",
    "print(\"Fitur:\", X_train.shape, \"| Target:\", y_train.shape)\n"
   ]
  },
  {
   "cell_type": "code",
   "execution_count": 5,
   "id": "a3a778ea",
   "metadata": {},
   "outputs": [],
   "source": [
    "## 3. Fungsi evaluasi model ===\n",
    "def evaluate_model(name, model, X_train, y_train, X_test, y_test):\n",
    "    model.fit(X_train, y_train)\n",
    "    y_pred = model.predict(X_test)\n",
    "\n",
    "    r2 = r2_score(y_test, y_pred)\n",
    "    mae = mean_absolute_error(y_test, y_pred)\n",
    "    rmse = np.sqrt(mean_squared_error(y_test, y_pred))\n",
    "\n",
    "    print(f\"\\n📈 Model: {name}\")\n",
    "    print(f\"R² Score: {r2:.4f}\")\n",
    "    print(f\"MAE: {mae:.4f}\")\n",
    "    print(f\"RMSE: {rmse:.4f}\")\n",
    "\n",
    "    return {\n",
    "        \"Model\": name,\n",
    "        \"R2\": r2,\n",
    "        \"MAE\": mae,\n",
    "        \"RMSE\": rmse\n",
    "    }"
   ]
  },
  {
   "cell_type": "code",
   "execution_count": 6,
   "id": "f5cf9e11",
   "metadata": {},
   "outputs": [
    {
     "name": "stdout",
     "output_type": "stream",
     "text": [
      "\n",
      "📈 Model: Linear Regression\n",
      "R² Score: 0.7411\n",
      "MAE: 1.5411\n",
      "RMSE: 2.5832\n",
      "\n",
      "📈 Model: Ridge Regression\n",
      "R² Score: 0.7445\n",
      "MAE: 1.5333\n",
      "RMSE: 2.5663\n",
      "\n",
      "📈 Model: Lasso Regression\n",
      "R² Score: 0.7423\n",
      "MAE: 1.5379\n",
      "RMSE: 2.5771\n",
      "\n",
      "📈 Model: Random Forest\n",
      "R² Score: 0.5347\n",
      "MAE: 1.4619\n",
      "RMSE: 3.4629\n",
      "\n",
      "📈 Model: CatBoost\n",
      "R² Score: 0.8420\n",
      "MAE: 0.9148\n",
      "RMSE: 2.0182\n"
     ]
    }
   ],
   "source": [
    "## 4. Latih beberapa model dasar ===\n",
    "results = []\n",
    "\n",
    "models = {\n",
    "    \"Linear Regression\": LinearRegression(),\n",
    "    \"Ridge Regression\": Ridge(alpha=1.0),\n",
    "    \"Lasso Regression\": Lasso(alpha=0.001),\n",
    "    \"Random Forest\": RandomForestRegressor(n_estimators=200, random_state=42),\n",
    "    \"CatBoost\": CatBoostRegressor(\n",
    "        iterations=500, depth=6, learning_rate=0.1,\n",
    "        loss_function='RMSE', verbose=False, random_state=42\n",
    "    )\n",
    "}\n",
    "\n",
    "for name, model in models.items():\n",
    "    result = evaluate_model(name, model, X_train, y_train, X_test, y_test)\n",
    "    results.append(result)"
   ]
  },
  {
   "cell_type": "code",
   "execution_count": 7,
   "id": "537fa6c9",
   "metadata": {},
   "outputs": [
    {
     "name": "stdout",
     "output_type": "stream",
     "text": [
      "\n",
      "📊 Ringkasan hasil:\n",
      "               Model        R2       MAE      RMSE\n",
      "4           CatBoost  0.841960  0.914775  2.018218\n",
      "1   Ridge Regression  0.744478  1.533350  2.566250\n",
      "2   Lasso Regression  0.742319  1.537883  2.577070\n",
      "0  Linear Regression  0.741083  1.541072  2.583242\n",
      "3      Random Forest  0.534728  1.461861  3.462886\n"
     ]
    }
   ],
   "source": [
    "## 5. Bandingkan hasil model ===\n",
    "results_df = pd.DataFrame(results)\n",
    "print(\"\\n📊 Ringkasan hasil:\")\n",
    "print(results_df.sort_values(by=\"R2\", ascending=False))"
   ]
  },
  {
   "cell_type": "code",
   "execution_count": 8,
   "id": "9cc9c988",
   "metadata": {},
   "outputs": [
    {
     "name": "stderr",
     "output_type": "stream",
     "text": [
      "C:\\Users\\Mugis\\AppData\\Local\\Temp\\ipykernel_2636\\221417096.py:3: FutureWarning: \n",
      "\n",
      "Passing `palette` without assigning `hue` is deprecated and will be removed in v0.14.0. Assign the `y` variable to `hue` and set `legend=False` for the same effect.\n",
      "\n",
      "  sns.barplot(x=\"R2\", y=\"Model\", data=results_df.sort_values(by=\"R2\", ascending=False), palette=\"viridis\")\n"
     ]
    },
    {
     "data": {
      "image/png": "[encoded data removed]",
      "text/plain": [
       "<Figure size 800x500 with 1 Axes>"
      ]
     },
     "metadata": {},
     "output_type": "display_data"
    }
   ],
   "source": [
    "## 6. Visualisasi performa model ===\n",
    "plt.figure(figsize=(8, 5))\n",
    "sns.barplot(x=\"R2\", y=\"Model\", data=results_df.sort_values(by=\"R2\", ascending=False), palette=\"viridis\")\n",
    "plt.title(\"Perbandingan R² Score antar Model\")\n",
    "plt.xlabel(\"R² Score\")\n",
    "plt.ylabel(\"Model\")\n",
    "plt.show()"
   ]
  },
  {
   "cell_type": "code",
   "execution_count": 9,
   "id": "5af3c5e7",
   "metadata": {},
   "outputs": [
    {
     "name": "stdout",
     "output_type": "stream",
     "text": [
      "\n",
      "🏆 Model terbaik: CatBoost\n"
     ]
    }
   ],
   "source": [
    "## 7. Simpan model terbaik ===\n",
    "best_model_name = results_df.sort_values(by=\"R2\", ascending=False).iloc[0][\"Model\"]\n",
    "print(f\"\\n🏆 Model terbaik: {best_model_name}\")"
   ]
  },
  {
   "cell_type": "code",
   "execution_count": null,
   "id": "380040e7",
   "metadata": {},
   "outputs": [],
   "source": [
    "## Misalnya model terbaik CatBoost → simpan modelnya\n",
    "#best_model = models[best_model_name]\n",
    "#best_model.fit(X_train, y_train)\n",
    "#import joblib\n",
    "#joblib.dump(best_model, f\"../models/{best_model_name.replace(' ', '_').lower()}_model.pkl\")\n",
    "\n",
    "#print(\"💾 Model disimpan di folder models/\")"
   ]
  }
 ],
 "metadata": {
  "kernelspec": {
   "display_name": "benv",
   "language": "python",
   "name": "python3"
  },
  "language_info": {
   "codemirror_mode": {
    "name": "ipython",
    "version": 3
   },
   "file_extension": ".py",
   "mimetype": "text/x-python",
   "name": "python",
   "nbconvert_exporter": "python",
   "pygments_lexer": "ipython3",
   "version": "3.13.7"
  }
 },
 "nbformat": 4,
 "nbformat_minor": 5
}
