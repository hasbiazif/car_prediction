{
 "cells": [
  {
   "cell_type": "markdown",
   "id": "a16853f1",
   "metadata": {},
   "source": [
    "# Proces data sebelum memodelkan berdasarkan EDA setelah dilakukan"
   ]
  },
  {
   "cell_type": "code",
   "execution_count": 2,
   "id": "89f17f88",
   "metadata": {},
   "outputs": [],
   "source": [
    "## 1. Import library\n",
    "import pandas as pd\n",
    "import numpy as np\n",
    "import os"
   ]
  },
  {
   "cell_type": "code",
   "execution_count": 3,
   "id": "4f712893",
   "metadata": {},
   "outputs": [
    {
     "name": "stdout",
     "output_type": "stream",
     "text": [
      "Data awal :  (301, 9)\n"
     ]
    },
    {
     "data": {
      "text/html": [
       "<div>\n",
       "<style scoped>\n",
       "    .dataframe tbody tr th:only-of-type {\n",
       "        vertical-align: middle;\n",
       "    }\n",
       "\n",
       "    .dataframe tbody tr th {\n",
       "        vertical-align: top;\n",
       "    }\n",
       "\n",
       "    .dataframe thead th {\n",
       "        text-align: right;\n",
       "    }\n",
       "</style>\n",
       "<table border=\"1\" class=\"dataframe\">\n",
       "  <thead>\n",
       "    <tr style=\"text-align: right;\">\n",
       "      <th></th>\n",
       "      <th>Car_Name</th>\n",
       "      <th>Year</th>\n",
       "      <th>Selling_Price</th>\n",
       "      <th>Present_Price</th>\n",
       "      <th>Kms_Driven</th>\n",
       "      <th>Fuel_Type</th>\n",
       "      <th>Seller_Type</th>\n",
       "      <th>Transmission</th>\n",
       "      <th>Owner</th>\n",
       "    </tr>\n",
       "  </thead>\n",
       "  <tbody>\n",
       "    <tr>\n",
       "      <th>0</th>\n",
       "      <td>ritz</td>\n",
       "      <td>2014</td>\n",
       "      <td>3.35</td>\n",
       "      <td>5.59</td>\n",
       "      <td>27000</td>\n",
       "      <td>Petrol</td>\n",
       "      <td>Dealer</td>\n",
       "      <td>Manual</td>\n",
       "      <td>0</td>\n",
       "    </tr>\n",
       "    <tr>\n",
       "      <th>1</th>\n",
       "      <td>sx4</td>\n",
       "      <td>2013</td>\n",
       "      <td>4.75</td>\n",
       "      <td>9.54</td>\n",
       "      <td>43000</td>\n",
       "      <td>Diesel</td>\n",
       "      <td>Dealer</td>\n",
       "      <td>Manual</td>\n",
       "      <td>0</td>\n",
       "    </tr>\n",
       "    <tr>\n",
       "      <th>2</th>\n",
       "      <td>ciaz</td>\n",
       "      <td>2017</td>\n",
       "      <td>7.25</td>\n",
       "      <td>9.85</td>\n",
       "      <td>6900</td>\n",
       "      <td>Petrol</td>\n",
       "      <td>Dealer</td>\n",
       "      <td>Manual</td>\n",
       "      <td>0</td>\n",
       "    </tr>\n",
       "    <tr>\n",
       "      <th>3</th>\n",
       "      <td>wagon r</td>\n",
       "      <td>2011</td>\n",
       "      <td>2.85</td>\n",
       "      <td>4.15</td>\n",
       "      <td>5200</td>\n",
       "      <td>Petrol</td>\n",
       "      <td>Dealer</td>\n",
       "      <td>Manual</td>\n",
       "      <td>0</td>\n",
       "    </tr>\n",
       "    <tr>\n",
       "      <th>4</th>\n",
       "      <td>swift</td>\n",
       "      <td>2014</td>\n",
       "      <td>4.60</td>\n",
       "      <td>6.87</td>\n",
       "      <td>42450</td>\n",
       "      <td>Diesel</td>\n",
       "      <td>Dealer</td>\n",
       "      <td>Manual</td>\n",
       "      <td>0</td>\n",
       "    </tr>\n",
       "  </tbody>\n",
       "</table>\n",
       "</div>"
      ],
      "text/plain": [
       "  Car_Name  Year  Selling_Price  Present_Price  Kms_Driven Fuel_Type  \\\n",
       "0     ritz  2014           3.35           5.59       27000    Petrol   \n",
       "1      sx4  2013           4.75           9.54       43000    Diesel   \n",
       "2     ciaz  2017           7.25           9.85        6900    Petrol   \n",
       "3  wagon r  2011           2.85           4.15        5200    Petrol   \n",
       "4    swift  2014           4.60           6.87       42450    Diesel   \n",
       "\n",
       "  Seller_Type Transmission  Owner  \n",
       "0      Dealer       Manual      0  \n",
       "1      Dealer       Manual      0  \n",
       "2      Dealer       Manual      0  \n",
       "3      Dealer       Manual      0  \n",
       "4      Dealer       Manual      0  "
      ]
     },
     "execution_count": 3,
     "metadata": {},
     "output_type": "execute_result"
    }
   ],
   "source": [
    "## 2. Load dataset mentah\n",
    "df = pd.read_csv(r\"C:\\Mini_H\\belajar\\car_prediction\\data\\raw\\car data.csv\")\n",
    "print(\"Data awal : \", df.shape)\n",
    "df.head()"
   ]
  },
  {
   "cell_type": "code",
   "execution_count": 4,
   "id": "801edad0",
   "metadata": {},
   "outputs": [
    {
     "name": "stdout",
     "output_type": "stream",
     "text": [
      "Setelah hapus duplikat :  (299, 9)\n"
     ]
    }
   ],
   "source": [
    "## 3. Hapus duplikat data\n",
    "\n",
    "df.drop_duplicates(inplace=True)\n",
    "print(\"Setelah hapus duplikat : \", df.shape)"
   ]
  },
  {
   "cell_type": "code",
   "execution_count": 8,
   "id": "b34c245c",
   "metadata": {},
   "outputs": [
    {
     "name": "stdout",
     "output_type": "stream",
     "text": [
      "kolom tersisa setelah di drop 1 ['Year', 'Selling_Price', 'Present_Price', 'Kms_Driven', 'Fuel_Type', 'Seller_Type', 'Transmission', 'Owner']\n"
     ]
    }
   ],
   "source": [
    "## 4. Buang kolom yang tidak relevan\n",
    "## kolom car_name tidak berpengaruh terhadap harga dan terlalu banyak kategorinya sehingga bisa dihapus\n",
    "\n",
    "df.drop('Car_Name', axis=1, inplace=True)\n",
    "print(\"kolom tersisa setelah di drop 1\", df.columns.tolist())"
   ]
  },
  {
   "cell_type": "code",
   "execution_count": 9,
   "id": "90f44e02",
   "metadata": {},
   "outputs": [],
   "source": [
    "## 5. Buat fitur baru: umur mobil\n",
    "\n",
    "df['Car_age'] = 2025 - df['Year']"
   ]
  },
  {
   "cell_type": "code",
   "execution_count": 10,
   "id": "8ddc3afc",
   "metadata": {},
   "outputs": [],
   "source": [
    "## Hapus kolom Year karena sudah diganti Car_age\n",
    "df.drop('Year', axis=1, inplace=True)"
   ]
  },
  {
   "cell_type": "code",
   "execution_count": 12,
   "id": "be3c10ad",
   "metadata": {},
   "outputs": [
    {
     "name": "stdout",
     "output_type": "stream",
     "text": [
      "   Car_age  Selling_Price\n",
      "0       11           3.35\n",
      "1       12           4.75\n",
      "2        8           7.25\n",
      "3       14           2.85\n",
      "4       11           4.60\n"
     ]
    }
   ],
   "source": [
    "## 6. Cek ulang hasil transformasi\n",
    "\n",
    "print(df[['Car_age','Selling_Price']].head())"
   ]
  },
  {
   "cell_type": "code",
   "execution_count": 16,
   "id": "90896fa8",
   "metadata": {},
   "outputs": [
    {
     "name": "stdout",
     "output_type": "stream",
     "text": [
      "\n",
      " Contoh hasil encode :\n",
      "   Selling_Price  Present_Price  Kms_Driven  Fuel_Type  Seller_Type  \\\n",
      "0           3.35           5.59       27000          2            0   \n",
      "1           4.75           9.54       43000          1            0   \n",
      "2           7.25           9.85        6900          2            0   \n",
      "3           2.85           4.15        5200          2            0   \n",
      "4           4.60           6.87       42450          1            0   \n",
      "\n",
      "   Transmission  Owner  Car_age  \n",
      "0             1      0       11  \n",
      "1             1      0       12  \n",
      "2             1      0        8  \n",
      "3             1      0       14  \n",
      "4             1      0       11  \n"
     ]
    }
   ],
   "source": [
    "## 7. Encoding fitur kategorikal\n",
    "## Tiga kolom kategorikal: Fuel_Type, Seller_Type, Transmission\n",
    "\n",
    "from sklearn.preprocessing import LabelEncoder\n",
    "\n",
    "le = LabelEncoder()\n",
    "\n",
    "for col in ['Fuel_Type', 'Seller_Type', 'Transmission']:\n",
    "    df[col] = le.fit_transform(df[col])\n",
    "\n",
    "print(\"\\n Contoh hasil encode :\")\n",
    "print(df.head())"
   ]
  },
  {
   "cell_type": "code",
   "execution_count": 18,
   "id": "99d3d479",
   "metadata": {},
   "outputs": [
    {
     "name": "stdout",
     "output_type": "stream",
     "text": [
      "Fitur (X): (299, 7)\n",
      "Target (y): (299,)\n"
     ]
    }
   ],
   "source": [
    "## 8. Pisahkan fitur (X) dan target (y)\n",
    "\n",
    "X = df.drop('Selling_Price', axis=1)\n",
    "y = df['Selling_Price']\n",
    "\n",
    "print(\"Fitur (X):\", X.shape)\n",
    "print(\"Target (y):\", y.shape)\n"
   ]
  },
  {
   "cell_type": "code",
   "execution_count": 19,
   "id": "75131c55",
   "metadata": {},
   "outputs": [
    {
     "name": "stdout",
     "output_type": "stream",
     "text": [
      "data training :  (239, 7)\n",
      "data testing :  (60, 7)\n"
     ]
    }
   ],
   "source": [
    "## 9. Split data train dan test\n",
    "\n",
    "from sklearn.model_selection import train_test_split\n",
    "\n",
    "X_train, X_test, y_train, y_test = train_test_split(X, y, test_size=0.2, random_state=42)\n",
    "\n",
    "print(\"data training : \", X_train.shape)\n",
    "print(\"data testing : \", X_test.shape)"
   ]
  },
  {
   "cell_type": "code",
   "execution_count": 20,
   "id": "e0c0d1ac",
   "metadata": {},
   "outputs": [
    {
     "name": "stdout",
     "output_type": "stream",
     "text": [
      "\n",
      "💾 Data hasil preprocessing disimpan di: data/processed/\n"
     ]
    }
   ],
   "source": [
    "## 10. Simpan data hasil preprocessing ===\n",
    "\n",
    "\n",
    "os.makedirs(\"../data/processed\", exist_ok=True)\n",
    "train_data = pd.concat([X_train, y_train], axis=1)\n",
    "test_data = pd.concat([X_test, y_test], axis=1)\n",
    "\n",
    "train_data.to_csv(\"../data/processed/train_data.csv\", index=False)\n",
    "test_data.to_csv(\"../data/processed/test_data.csv\", index=False)\n",
    "\n",
    "print(\"\\n💾 Data hasil preprocessing disimpan di: data/processed/\")"
   ]
  }
 ],
 "metadata": {
  "kernelspec": {
   "display_name": "benv",
   "language": "python",
   "name": "python3"
  },
  "language_info": {
   "codemirror_mode": {
    "name": "ipython",
    "version": 3
   },
   "file_extension": ".py",
   "mimetype": "text/x-python",
   "name": "python",
   "nbconvert_exporter": "python",
   "pygments_lexer": "ipython3",
   "version": "3.13.7"
  }
 },
 "nbformat": 4,
 "nbformat_minor": 5
}
